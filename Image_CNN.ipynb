{
  "nbformat": 4,
  "nbformat_minor": 0,
  "metadata": {
    "colab": {
      "provenance": []
    },
    "kernelspec": {
      "name": "python3",
      "display_name": "Python 3"
    },
    "language_info": {
      "name": "python"
    }
  },
  "cells": [
    {
      "cell_type": "markdown",
      "source": [
        "# Using CNN for image classification using CIFAR-10 dataset"
      ],
      "metadata": {
        "id": "96SogH_dGfhR"
      }
    },
    {
      "cell_type": "markdown",
      "source": [
        "## Setup of Data Pipeline"
      ],
      "metadata": {
        "id": "csPia0ScIFAh"
      }
    },
    {
      "cell_type": "code",
      "execution_count": null,
      "metadata": {
        "colab": {
          "base_uri": "https://localhost:8080/"
        },
        "collapsed": true,
        "id": "SYOYlXMuGaSs",
        "outputId": "fca8302a-4126-4e38-88e3-ab6eeec8227e"
      },
      "outputs": [
        {
          "output_type": "stream",
          "name": "stdout",
          "text": [
            "Requirement already satisfied: tensorflow in /usr/local/lib/python3.10/dist-packages (2.15.0)\n",
            "Requirement already satisfied: opencv-python in /usr/local/lib/python3.10/dist-packages (4.8.0.76)\n",
            "Requirement already satisfied: matplotlib in /usr/local/lib/python3.10/dist-packages (3.7.1)\n",
            "Requirement already satisfied: absl-py>=1.0.0 in /usr/local/lib/python3.10/dist-packages (from tensorflow) (1.4.0)\n",
            "Requirement already satisfied: astunparse>=1.6.0 in /usr/local/lib/python3.10/dist-packages (from tensorflow) (1.6.3)\n",
            "Requirement already satisfied: flatbuffers>=23.5.26 in /usr/local/lib/python3.10/dist-packages (from tensorflow) (24.3.25)\n",
            "Requirement already satisfied: gast!=0.5.0,!=0.5.1,!=0.5.2,>=0.2.1 in /usr/local/lib/python3.10/dist-packages (from tensorflow) (0.6.0)\n",
            "Requirement already satisfied: google-pasta>=0.1.1 in /usr/local/lib/python3.10/dist-packages (from tensorflow) (0.2.0)\n",
            "Requirement already satisfied: h5py>=2.9.0 in /usr/local/lib/python3.10/dist-packages (from tensorflow) (3.9.0)\n",
            "Requirement already satisfied: libclang>=13.0.0 in /usr/local/lib/python3.10/dist-packages (from tensorflow) (18.1.1)\n",
            "Requirement already satisfied: ml-dtypes~=0.2.0 in /usr/local/lib/python3.10/dist-packages (from tensorflow) (0.2.0)\n",
            "Requirement already satisfied: numpy<2.0.0,>=1.23.5 in /usr/local/lib/python3.10/dist-packages (from tensorflow) (1.25.2)\n",
            "Requirement already satisfied: opt-einsum>=2.3.2 in /usr/local/lib/python3.10/dist-packages (from tensorflow) (3.3.0)\n",
            "Requirement already satisfied: packaging in /usr/local/lib/python3.10/dist-packages (from tensorflow) (24.1)\n",
            "Requirement already satisfied: protobuf!=4.21.0,!=4.21.1,!=4.21.2,!=4.21.3,!=4.21.4,!=4.21.5,<5.0.0dev,>=3.20.3 in /usr/local/lib/python3.10/dist-packages (from tensorflow) (3.20.3)\n",
            "Requirement already satisfied: setuptools in /usr/local/lib/python3.10/dist-packages (from tensorflow) (67.7.2)\n",
            "Requirement already satisfied: six>=1.12.0 in /usr/local/lib/python3.10/dist-packages (from tensorflow) (1.16.0)\n",
            "Requirement already satisfied: termcolor>=1.1.0 in /usr/local/lib/python3.10/dist-packages (from tensorflow) (2.4.0)\n",
            "Requirement already satisfied: typing-extensions>=3.6.6 in /usr/local/lib/python3.10/dist-packages (from tensorflow) (4.12.2)\n",
            "Requirement already satisfied: wrapt<1.15,>=1.11.0 in /usr/local/lib/python3.10/dist-packages (from tensorflow) (1.14.1)\n",
            "Requirement already satisfied: tensorflow-io-gcs-filesystem>=0.23.1 in /usr/local/lib/python3.10/dist-packages (from tensorflow) (0.37.0)\n",
            "Requirement already satisfied: grpcio<2.0,>=1.24.3 in /usr/local/lib/python3.10/dist-packages (from tensorflow) (1.64.1)\n",
            "Requirement already satisfied: tensorboard<2.16,>=2.15 in /usr/local/lib/python3.10/dist-packages (from tensorflow) (2.15.2)\n",
            "Requirement already satisfied: tensorflow-estimator<2.16,>=2.15.0 in /usr/local/lib/python3.10/dist-packages (from tensorflow) (2.15.0)\n",
            "Requirement already satisfied: keras<2.16,>=2.15.0 in /usr/local/lib/python3.10/dist-packages (from tensorflow) (2.15.0)\n",
            "Requirement already satisfied: contourpy>=1.0.1 in /usr/local/lib/python3.10/dist-packages (from matplotlib) (1.2.1)\n",
            "Requirement already satisfied: cycler>=0.10 in /usr/local/lib/python3.10/dist-packages (from matplotlib) (0.12.1)\n",
            "Requirement already satisfied: fonttools>=4.22.0 in /usr/local/lib/python3.10/dist-packages (from matplotlib) (4.53.0)\n",
            "Requirement already satisfied: kiwisolver>=1.0.1 in /usr/local/lib/python3.10/dist-packages (from matplotlib) (1.4.5)\n",
            "Requirement already satisfied: pillow>=6.2.0 in /usr/local/lib/python3.10/dist-packages (from matplotlib) (9.4.0)\n",
            "Requirement already satisfied: pyparsing>=2.3.1 in /usr/local/lib/python3.10/dist-packages (from matplotlib) (3.1.2)\n",
            "Requirement already satisfied: python-dateutil>=2.7 in /usr/local/lib/python3.10/dist-packages (from matplotlib) (2.8.2)\n",
            "Requirement already satisfied: wheel<1.0,>=0.23.0 in /usr/local/lib/python3.10/dist-packages (from astunparse>=1.6.0->tensorflow) (0.43.0)\n",
            "Requirement already satisfied: google-auth<3,>=1.6.3 in /usr/local/lib/python3.10/dist-packages (from tensorboard<2.16,>=2.15->tensorflow) (2.27.0)\n",
            "Requirement already satisfied: google-auth-oauthlib<2,>=0.5 in /usr/local/lib/python3.10/dist-packages (from tensorboard<2.16,>=2.15->tensorflow) (1.2.0)\n",
            "Requirement already satisfied: markdown>=2.6.8 in /usr/local/lib/python3.10/dist-packages (from tensorboard<2.16,>=2.15->tensorflow) (3.6)\n",
            "Requirement already satisfied: requests<3,>=2.21.0 in /usr/local/lib/python3.10/dist-packages (from tensorboard<2.16,>=2.15->tensorflow) (2.31.0)\n",
            "Requirement already satisfied: tensorboard-data-server<0.8.0,>=0.7.0 in /usr/local/lib/python3.10/dist-packages (from tensorboard<2.16,>=2.15->tensorflow) (0.7.2)\n",
            "Requirement already satisfied: werkzeug>=1.0.1 in /usr/local/lib/python3.10/dist-packages (from tensorboard<2.16,>=2.15->tensorflow) (3.0.3)\n",
            "Requirement already satisfied: cachetools<6.0,>=2.0.0 in /usr/local/lib/python3.10/dist-packages (from google-auth<3,>=1.6.3->tensorboard<2.16,>=2.15->tensorflow) (5.3.3)\n",
            "Requirement already satisfied: pyasn1-modules>=0.2.1 in /usr/local/lib/python3.10/dist-packages (from google-auth<3,>=1.6.3->tensorboard<2.16,>=2.15->tensorflow) (0.4.0)\n",
            "Requirement already satisfied: rsa<5,>=3.1.4 in /usr/local/lib/python3.10/dist-packages (from google-auth<3,>=1.6.3->tensorboard<2.16,>=2.15->tensorflow) (4.9)\n",
            "Requirement already satisfied: requests-oauthlib>=0.7.0 in /usr/local/lib/python3.10/dist-packages (from google-auth-oauthlib<2,>=0.5->tensorboard<2.16,>=2.15->tensorflow) (1.3.1)\n",
            "Requirement already satisfied: charset-normalizer<4,>=2 in /usr/local/lib/python3.10/dist-packages (from requests<3,>=2.21.0->tensorboard<2.16,>=2.15->tensorflow) (3.3.2)\n",
            "Requirement already satisfied: idna<4,>=2.5 in /usr/local/lib/python3.10/dist-packages (from requests<3,>=2.21.0->tensorboard<2.16,>=2.15->tensorflow) (3.7)\n",
            "Requirement already satisfied: urllib3<3,>=1.21.1 in /usr/local/lib/python3.10/dist-packages (from requests<3,>=2.21.0->tensorboard<2.16,>=2.15->tensorflow) (2.0.7)\n",
            "Requirement already satisfied: certifi>=2017.4.17 in /usr/local/lib/python3.10/dist-packages (from requests<3,>=2.21.0->tensorboard<2.16,>=2.15->tensorflow) (2024.6.2)\n",
            "Requirement already satisfied: MarkupSafe>=2.1.1 in /usr/local/lib/python3.10/dist-packages (from werkzeug>=1.0.1->tensorboard<2.16,>=2.15->tensorflow) (2.1.5)\n",
            "Requirement already satisfied: pyasn1<0.7.0,>=0.4.6 in /usr/local/lib/python3.10/dist-packages (from pyasn1-modules>=0.2.1->google-auth<3,>=1.6.3->tensorboard<2.16,>=2.15->tensorflow) (0.6.0)\n",
            "Requirement already satisfied: oauthlib>=3.0.0 in /usr/local/lib/python3.10/dist-packages (from requests-oauthlib>=0.7.0->google-auth-oauthlib<2,>=0.5->tensorboard<2.16,>=2.15->tensorflow) (3.2.2)\n"
          ]
        }
      ],
      "source": [
        "!pip install tensorflow opencv-python matplotlib"
      ]
    },
    {
      "cell_type": "code",
      "source": [
        "import tensorflow as tf\n",
        "import os"
      ],
      "metadata": {
        "id": "AljE2GzPIDrF"
      },
      "execution_count": null,
      "outputs": []
    },
    {
      "cell_type": "markdown",
      "source": [
        "##Limit the GPU consumption by the program for avoiding error"
      ],
      "metadata": {
        "id": "yD7zlYihJcsJ"
      }
    },
    {
      "cell_type": "code",
      "source": [
        "gpus=tf.config.experimental.list_physical_devices(\"GPU\") # Stores a list of available GPUs in gpus\n",
        "for gpu in gpus:\n",
        "    tf.config.experimental.set_memory_growth(gpu,True) # Limits the memory"
      ],
      "metadata": {
        "id": "_0fEGt2FJC5P"
      },
      "execution_count": null,
      "outputs": []
    },
    {
      "cell_type": "code",
      "source": [
        "from tensorflow.keras import datasets, layers, models\n",
        "import matplotlib.pyplot as plt\n",
        "import numpy as np"
      ],
      "metadata": {
        "id": "B6Lsb9HNK11G"
      },
      "execution_count": null,
      "outputs": []
    },
    {
      "cell_type": "markdown",
      "source": [
        "## Using CIFAR10 dataset"
      ],
      "metadata": {
        "id": "9RAzfCroL18e"
      }
    },
    {
      "cell_type": "code",
      "source": [
        "(train_X,train_y),(val_X,val_y)=datasets.cifar10.load_data()"
      ],
      "metadata": {
        "colab": {
          "base_uri": "https://localhost:8080/"
        },
        "id": "m8ujkhM5LGhL",
        "outputId": "3db6f3d4-9886-4e71-e81f-0b192e1177d2"
      },
      "execution_count": null,
      "outputs": [
        {
          "output_type": "stream",
          "name": "stdout",
          "text": [
            "Downloading data from https://www.cs.toronto.edu/~kriz/cifar-10-python.tar.gz\n",
            "170498071/170498071 [==============================] - 2s 0us/step\n"
          ]
        }
      ]
    },
    {
      "cell_type": "markdown",
      "source": [
        "## Reshaping train_y for our requirements\n"
      ],
      "metadata": {
        "id": "CD3f2CDnN9vr"
      }
    },
    {
      "cell_type": "code",
      "source": [
        "train_X.shape, val_X.shape"
      ],
      "metadata": {
        "colab": {
          "base_uri": "https://localhost:8080/"
        },
        "id": "OZKh1K_sOW6f",
        "outputId": "3f1f144a-02a7-40bd-9323-82d4ce1cf230"
      },
      "execution_count": null,
      "outputs": [
        {
          "output_type": "execute_result",
          "data": {
            "text/plain": [
              "((50000, 32, 32, 3), (10000, 32, 32, 3))"
            ]
          },
          "metadata": {},
          "execution_count": 15
        }
      ]
    },
    {
      "cell_type": "code",
      "source": [
        "train_y.shape, val_y.shape"
      ],
      "metadata": {
        "colab": {
          "base_uri": "https://localhost:8080/"
        },
        "id": "Md8CUaUaObnB",
        "outputId": "668b13d9-90ca-4d40-daca-f4b561eeaf96"
      },
      "execution_count": null,
      "outputs": [
        {
          "output_type": "execute_result",
          "data": {
            "text/plain": [
              "((50000, 1), (10000, 1))"
            ]
          },
          "metadata": {},
          "execution_count": 16
        }
      ]
    },
    {
      "cell_type": "markdown",
      "source": [
        "As our X has around 32x32 images and in y we have only 1 column there needs to be reshaping done"
      ],
      "metadata": {
        "id": "LhLBYVqcOqUa"
      }
    },
    {
      "cell_type": "code",
      "source": [
        "# This train_y is a 2D array, for our classification having a 1D array works as well\n",
        "train_y=train_y.reshape(-1)\n",
        "val_y=val_y.reshape(-1)"
      ],
      "metadata": {
        "id": "OEKZhBC4OhJ8"
      },
      "execution_count": null,
      "outputs": []
    },
    {
      "cell_type": "code",
      "source": [
        "classes=[\"airplane\",\"automobile\",\"bird\",\"cat\",\"deer\",\"dog\",\"frog\",\"horse\",\"ship\",\"truck\"]"
      ],
      "metadata": {
        "id": "VaeiBBCqNIJD"
      },
      "execution_count": null,
      "outputs": []
    },
    {
      "cell_type": "code",
      "source": [
        "def plot_sample(X,y,index):\n",
        "    # Resizing the plot to look at image properly\n",
        "    plt.figure(figsize=(15,2))\n",
        "    # Looking at image\n",
        "    plt.imshow(X[index])\n",
        "    plt.xlabel(classes[y[index]])\n"
      ],
      "metadata": {
        "id": "8m04qGrWLgRy"
      },
      "execution_count": null,
      "outputs": []
    },
    {
      "cell_type": "code",
      "source": [
        "plot_sample(train_X,train_y,3)"
      ],
      "metadata": {
        "colab": {
          "base_uri": "https://localhost:8080/",
          "height": 237
        },
        "id": "bRa4se5xMC9B",
        "outputId": "55ad86ce-9464-4cbb-ed6f-127eb1b1fa0f"
      },
      "execution_count": null,
      "outputs": [
        {
          "output_type": "display_data",
          "data": {
            "text/plain": [
              "<Figure size 1500x200 with 1 Axes>"
            ],
            "image/png": "[encoded data removed]"
          },
          "metadata": {}
        }
      ]
    },
    {
      "cell_type": "markdown",
      "source": [
        "## The data has RGB channels i.e values from 0 to 255\n",
        "## For simplification we can convert these to 0/1 i.e binary values by simply dividing by 255"
      ],
      "metadata": {
        "id": "EY7GqWGdSOJm"
      }
    },
    {
      "cell_type": "code",
      "source": [
        "train_X=train_X/255\n",
        "val_X=val_X/255"
      ],
      "metadata": {
        "id": "M7CzsB4RRvKn"
      },
      "execution_count": null,
      "outputs": []
    },
    {
      "cell_type": "markdown",
      "source": [
        "## Building a simple ANN model for image classification"
      ],
      "metadata": {
        "id": "5yC3rsgMSqNF"
      }
    },
    {
      "cell_type": "code",
      "source": [
        "ann=models.Sequential([\n",
        "    layers.Flatten(input_shape=(32,32,3)),\n",
        "    layers.Dense(3000, activation=\"relu\"),\n",
        "    layers.Dense(2000, activation=\"relu\"),\n",
        "    layers.Dense(25, activation=\"relu\"),\n",
        "    layers.Dense(10, activation=\"softmax\")\n",
        "])\n",
        "\n",
        "ann.compile(optimizer=\"SGD\",\n",
        "            loss=\"sparse_categorical_crossentropy\",\n",
        "            metrics=[\"accuracy\"])\n",
        "\n",
        "ann.fit(train_X,train_y,epochs=7)"
      ],
      "metadata": {
        "colab": {
          "base_uri": "https://localhost:8080/"
        },
        "id": "KCNilzs7SlxR",
        "outputId": "abe10aa5-ab92-4a8b-9826-f4151c2d9f6b"
      },
      "execution_count": null,
      "outputs": [
        {
          "output_type": "stream",
          "name": "stdout",
          "text": [
            "Epoch 1/7\n",
            "1563/1563 [==============================] - 169s 108ms/step - loss: 1.8770 - accuracy: 0.3194\n",
            "Epoch 2/7\n",
            "1563/1563 [==============================] - 163s 104ms/step - loss: 1.6507 - accuracy: 0.4117\n",
            "Epoch 3/7\n",
            "1563/1563 [==============================] - 160s 102ms/step - loss: 1.5551 - accuracy: 0.4476\n",
            "Epoch 4/7\n",
            "1563/1563 [==============================] - 158s 101ms/step - loss: 1.4867 - accuracy: 0.4723\n",
            "Epoch 5/7\n",
            "1563/1563 [==============================] - 174s 111ms/step - loss: 1.4320 - accuracy: 0.4934\n",
            "Epoch 6/7\n",
            "1563/1563 [==============================] - 213s 136ms/step - loss: 1.3835 - accuracy: 0.5090\n",
            "Epoch 7/7\n",
            "1563/1563 [==============================] - 240s 154ms/step - loss: 1.3436 - accuracy: 0.5230\n"
          ]
        },
        {
          "output_type": "execute_result",
          "data": {
            "text/plain": [
              "<keras.src.callbacks.History at 0x7e075ce2c550>"
            ]
          },
          "metadata": {},
          "execution_count": 29
        }
      ]
    },
    {
      "cell_type": "markdown",
      "source": [
        "## Now to see how our model performs in prediction"
      ],
      "metadata": {
        "id": "TL2vkwDwXnDz"
      }
    },
    {
      "cell_type": "code",
      "source": [
        "from sklearn.metrics import confusion_matrix, classification_report\n",
        "import numpy as np\n",
        "predictions_y=ann.predict(val_X)\n",
        "predn_classes=[np.argmax(element) for element in predictions_y]\n",
        "\n",
        "print(\"Classification Report: \\n\",classification_report(val_y,predn_classes))"
      ],
      "metadata": {
        "colab": {
          "base_uri": "https://localhost:8080/"
        },
        "id": "a-vx9pc1XlLY",
        "outputId": "10adaa6b-139d-4353-f8e1-9972611ecaff"
      },
      "execution_count": null,
      "outputs": [
        {
          "output_type": "stream",
          "name": "stdout",
          "text": [
            "313/313 [==============================] - 10s 33ms/step\n",
            "Classification Report: \n",
            "               precision    recall  f1-score   support\n",
            "\n",
            "           0       0.60      0.50      0.54      1000\n",
            "           1       0.68      0.61      0.64      1000\n",
            "           2       0.36      0.31      0.33      1000\n",
            "           3       0.40      0.17      0.24      1000\n",
            "           4       0.40      0.46      0.42      1000\n",
            "           5       0.48      0.34      0.39      1000\n",
            "           6       0.32      0.84      0.46      1000\n",
            "           7       0.67      0.46      0.54      1000\n",
            "           8       0.58      0.66      0.62      1000\n",
            "           9       0.67      0.44      0.53      1000\n",
            "\n",
            "    accuracy                           0.48     10000\n",
            "   macro avg       0.51      0.48      0.47     10000\n",
            "weighted avg       0.51      0.48      0.47     10000\n",
            "\n"
          ]
        }
      ]
    },
    {
      "cell_type": "markdown",
      "source": [
        "## Now using CNN to train our images"
      ],
      "metadata": {
        "id": "D0R2C0LOYte0"
      }
    },
    {
      "cell_type": "code",
      "source": [
        "cnn=models.Sequential([\n",
        "    layers.Conv2D(filters=32, kernel_size=(3,3),activation=\"relu\",input_shape=(32,32,3)),\n",
        "    layers.MaxPooling2D((2,2)),\n",
        "\n",
        "    layers.Conv2D(filters=64, kernel_size=(3,3),activation=\"relu\"),\n",
        "    layers.MaxPooling2D((2,2)),\n",
        "\n",
        "    layers.Flatten(),\n",
        "    layers.Dense(64,activation=\"relu\"),\n",
        "    layers.Dense(128,activation=\"relu\"),\n",
        "    layers.Dense(10,activation=\"softmax\")\n",
        "])"
      ],
      "metadata": {
        "id": "Hy5yEUGBUBPx"
      },
      "execution_count": null,
      "outputs": []
    },
    {
      "cell_type": "code",
      "source": [
        "cnn.compile(optimizer=\"adam\",\n",
        "            loss=\"sparse_categorical_crossentropy\",\n",
        "            metrics=[\"accuracy\"])"
      ],
      "metadata": {
        "id": "G4iH1n49br-e"
      },
      "execution_count": null,
      "outputs": []
    },
    {
      "cell_type": "code",
      "source": [
        "cnn.fit(train_X,train_y,epochs=25)"
      ],
      "metadata": {
        "colab": {
          "base_uri": "https://localhost:8080/"
        },
        "id": "jEzzGk4qcCLG",
        "outputId": "a04f6969-602b-49f3-8667-9c75872b48b1"
      },
      "execution_count": null,
      "outputs": [
        {
          "output_type": "stream",
          "name": "stdout",
          "text": [
            "Epoch 1/25\n",
            "1563/1563 [==============================] - 58s 36ms/step - loss: 1.4804 - accuracy: 0.4613\n",
            "Epoch 2/25\n",
            "1563/1563 [==============================] - 56s 36ms/step - loss: 1.1131 - accuracy: 0.6062\n",
            "Epoch 3/25\n",
            "1563/1563 [==============================] - 55s 35ms/step - loss: 0.9755 - accuracy: 0.6581\n",
            "Epoch 4/25\n",
            "1563/1563 [==============================] - 56s 36ms/step - loss: 0.8913 - accuracy: 0.6886\n",
            "Epoch 5/25\n",
            "1563/1563 [==============================] - 55s 35ms/step - loss: 0.8253 - accuracy: 0.7136\n",
            "Epoch 6/25\n",
            "1563/1563 [==============================] - 55s 35ms/step - loss: 0.7712 - accuracy: 0.7319\n",
            "Epoch 7/25\n",
            "1563/1563 [==============================] - 55s 35ms/step - loss: 0.7234 - accuracy: 0.7484\n",
            "Epoch 8/25\n",
            "1563/1563 [==============================] - 55s 35ms/step - loss: 0.6852 - accuracy: 0.7600\n",
            "Epoch 9/25\n",
            "1563/1563 [==============================] - 61s 39ms/step - loss: 0.6474 - accuracy: 0.7721\n",
            "Epoch 10/25\n",
            "1563/1563 [==============================] - 74s 48ms/step - loss: 0.6117 - accuracy: 0.7846\n",
            "Epoch 11/25\n",
            "1563/1563 [==============================] - 78s 50ms/step - loss: 0.5782 - accuracy: 0.7970\n",
            "Epoch 12/25\n",
            "1563/1563 [==============================] - 55s 35ms/step - loss: 0.5496 - accuracy: 0.8056\n",
            "Epoch 13/25\n",
            "1563/1563 [==============================] - 55s 35ms/step - loss: 0.5197 - accuracy: 0.8171\n",
            "Epoch 14/25\n",
            "1563/1563 [==============================] - 55s 35ms/step - loss: 0.4966 - accuracy: 0.8239\n",
            "Epoch 15/25\n",
            "1563/1563 [==============================] - 55s 35ms/step - loss: 0.4730 - accuracy: 0.8322\n",
            "Epoch 16/25\n",
            "1563/1563 [==============================] - 55s 35ms/step - loss: 0.4515 - accuracy: 0.8406\n",
            "Epoch 17/25\n",
            "1563/1563 [==============================] - 58s 37ms/step - loss: 0.4296 - accuracy: 0.8478\n",
            "Epoch 18/25\n",
            "1563/1563 [==============================] - 55s 35ms/step - loss: 0.4120 - accuracy: 0.8539\n",
            "Epoch 19/25\n",
            "1563/1563 [==============================] - 54s 35ms/step - loss: 0.3885 - accuracy: 0.8615\n",
            "Epoch 20/25\n",
            "1563/1563 [==============================] - 55s 35ms/step - loss: 0.3733 - accuracy: 0.8677\n",
            "Epoch 21/25\n",
            "1563/1563 [==============================] - 55s 35ms/step - loss: 0.3638 - accuracy: 0.8690\n",
            "Epoch 22/25\n",
            "1563/1563 [==============================] - 54s 35ms/step - loss: 0.3417 - accuracy: 0.8782\n",
            "Epoch 23/25\n",
            "1563/1563 [==============================] - 54s 35ms/step - loss: 0.3277 - accuracy: 0.8819\n",
            "Epoch 24/25\n",
            "1563/1563 [==============================] - 54s 35ms/step - loss: 0.3211 - accuracy: 0.8835\n",
            "Epoch 25/25\n",
            "1563/1563 [==============================] - 55s 35ms/step - loss: 0.2979 - accuracy: 0.8938\n"
          ]
        },
        {
          "output_type": "execute_result",
          "data": {
            "text/plain": [
              "<keras.src.callbacks.History at 0x7e075e336e30>"
            ]
          },
          "metadata": {},
          "execution_count": 38
        }
      ]
    },
    {
      "cell_type": "code",
      "source": [
        "cnn.evaluate(val_X,val_y)"
      ],
      "metadata": {
        "colab": {
          "base_uri": "https://localhost:8080/"
        },
        "id": "8dv55oZgeB0Q",
        "outputId": "95bc7461-3800-43c9-9ff0-0857edbb92ea"
      },
      "execution_count": null,
      "outputs": [
        {
          "output_type": "stream",
          "name": "stdout",
          "text": [
            "313/313 [==============================] - 3s 11ms/step - loss: 1.4772 - accuracy: 0.6749\n"
          ]
        },
        {
          "output_type": "execute_result",
          "data": {
            "text/plain": [
              "[1.477201223373413, 0.6748999953269958]"
            ]
          },
          "metadata": {},
          "execution_count": 42
        }
      ]
    },
    {
      "cell_type": "code",
      "source": [
        "y_pred=cnn.predict(val_X)"
      ],
      "metadata": {
        "colab": {
          "base_uri": "https://localhost:8080/"
        },
        "id": "QNDhvU7xeOw1",
        "outputId": "a7890264-ee7b-4e22-a753-960ca2387e31"
      },
      "execution_count": null,
      "outputs": [
        {
          "output_type": "stream",
          "name": "stdout",
          "text": [
            "313/313 [==============================] - 3s 11ms/step\n"
          ]
        }
      ]
    },
    {
      "cell_type": "code",
      "source": [
        "y_pclass=[np.argmax(element) for element in y_pred]"
      ],
      "metadata": {
        "id": "qGCB9xmheeZv"
      },
      "execution_count": null,
      "outputs": []
    },
    {
      "cell_type": "code",
      "source": [
        "val_y[:5]"
      ],
      "metadata": {
        "colab": {
          "base_uri": "https://localhost:8080/"
        },
        "id": "kcAcBFdxiFbu",
        "outputId": "cef7d78f-ea03-4ac3-f8da-41e9f41baae8"
      },
      "execution_count": null,
      "outputs": [
        {
          "output_type": "execute_result",
          "data": {
            "text/plain": [
              "array([3, 8, 8, 0, 6], dtype=uint8)"
            ]
          },
          "metadata": {},
          "execution_count": 44
        }
      ]
    },
    {
      "cell_type": "code",
      "source": [
        "y_pclass[:5]"
      ],
      "metadata": {
        "colab": {
          "base_uri": "https://localhost:8080/"
        },
        "id": "YItXEGuciIZN",
        "outputId": "378d9015-96fd-4eac-d1d1-a2a4aee18bfa"
      },
      "execution_count": null,
      "outputs": [
        {
          "output_type": "execute_result",
          "data": {
            "text/plain": [
              "[3, 8, 8, 0, 6]"
            ]
          },
          "metadata": {},
          "execution_count": 45
        }
      ]
    },
    {
      "cell_type": "code",
      "source": [],
      "metadata": {
        "id": "y3Ep8e0PiM3o"
      },
      "execution_count": null,
      "outputs": []
    }
  ]
}